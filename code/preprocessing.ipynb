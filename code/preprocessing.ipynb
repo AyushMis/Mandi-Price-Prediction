{
 "cells": [
  {
   "cell_type": "code",
   "execution_count": 1,
   "metadata": {},
   "outputs": [],
   "source": [
    "import pandas as pd\n",
    "import numpy as np\n",
    "import re"
   ]
  },
  {
   "cell_type": "code",
   "execution_count": 2,
   "metadata": {},
   "outputs": [],
   "source": [
    "def text_to_word_list(text):\n",
    "    ''' Pre process and convert texts to a list of words '''\n",
    "    text = str(text)\n",
    "    text = text.lower()\n",
    "\n",
    "    # Clean the text\n",
    "    text = re.sub(r\"[^A-Za-z0-9^,!.\\/'+-=]\", \" \", text)\n",
    "    text = re.sub(r\"what's\", \"what is \", text)\n",
    "    text = re.sub(r\"\\'s\", \" \", text)\n",
    "    text = re.sub(r\"\\'ve\", \" have \", text)\n",
    "    text = re.sub(r\"can't\", \"cannot \", text)\n",
    "    text = re.sub(r\"n't\", \" not \", text)\n",
    "    text = re.sub(r\"i'm\", \"i am \", text)\n",
    "    text = re.sub(r\"\\'re\", \" are \", text)\n",
    "    text = re.sub(r\"\\'d\", \" would \", text)\n",
    "    text = re.sub(r\"\\'ll\", \" will \", text)\n",
    "    text = re.sub(r\",\", \" \", text)\n",
    "    text = re.sub(r\"\\.\", \" \", text)\n",
    "    text = re.sub(r\"!\", \" \", text)\n",
    "    text = re.sub(r\"\\/\", \" \", text)\n",
    "    text = re.sub(r\"\\^\", \" \", text)\n",
    "    text = re.sub(r\"\\+\", \" \", text)\n",
    "    text = re.sub(r\"\\-\", \" \", text)\n",
    "    text = re.sub(r\"\\=\", \" \", text)\n",
    "    text = re.sub(r\"'\", \" \", text)\n",
    "    text = re.sub(r\"(\\d+)(k)\", r\"\\g<1>000\", text)\n",
    "    text = re.sub(r\":\", \" : \", text)\n",
    "    text = re.sub(r\" e g \", \" eg \", text)\n",
    "    text = re.sub(r\" b g \", \" bg \", text)\n",
    "    text = re.sub(r\" u s \", \" american \", text)\n",
    "    text = re.sub(r\"\\0s\", \"0\", text)\n",
    "    text = re.sub(r\" 9 11 \", \"911\", text)\n",
    "    text = re.sub(r\"e - mail\", \"email\", text)\n",
    "    text = re.sub(r\"j k\", \"jk\", text)\n",
    "    text = re.sub(r\"\\s{2,}\", \" \", text)\n",
    "\n",
    "    return (text.strip())\n",
    "\n",
    "def categorising(df, column):\n",
    "    df[column] = df[column].astype(\"category\").cat.codes\n",
    "    return df[column]\n",
    "\n",
    "def preprocess(df):\n",
    "    for element in df:\n",
    "        if df[element].dtype==\"object\":\n",
    "            df[element] = df[element].str.lower()\n",
    "    \n",
    "    df['commodity'] = df['commodity'].apply(text_to_word_list)\n",
    "    #for i in range(len(CMO_msp['commodity'])):\n",
    "    #    df['commodity'][i] = text_to_word_list(df['commodity'][i])\n",
    "        \n",
    "    return df"
   ]
  },
  {
   "cell_type": "code",
   "execution_count": 3,
   "metadata": {},
   "outputs": [],
   "source": [
    "CMO_msp_mandi = \"../dataset/CMO_MSP_Mandi.csv\"\n",
    "monthly = \"../dataset/Monthly_data_cmo.csv\""
   ]
  },
  {
   "cell_type": "code",
   "execution_count": 4,
   "metadata": {},
   "outputs": [],
   "source": [
    "CMO_msp = pd.read_csv(CMO_msp_mandi)\n",
    "CMO_msp['Type'] = categorising(CMO_msp, 'Type')\n",
    "CMO_msp = preprocess(CMO_msp)\n",
    "CMO_msp.to_csv('../dataset/clean_CMO.csv', sep='\\t')"
   ]
  },
  {
   "cell_type": "code",
   "execution_count": 5,
   "metadata": {},
   "outputs": [],
   "source": [
    "monthly_cmo = pd.read_csv(monthly)\n",
    "monthly_cmo['APMC'] = categorising(monthly_cmo, 'APMC')\n",
    "monthly_cmo['Month'] = categorising(monthly_cmo, 'Month')\n",
    "monthly_cmo['district_name'] = categorising(monthly_cmo, 'district_name')\n",
    "monthly_cmo['state_name'] = categorising(monthly_cmo, 'state_name')\n",
    "monthly_cmo = monthly_cmo.rename(columns={'Commodity': 'commodity', 'Year': 'year'})\n",
    "monthly_cmo = preprocess(monthly_cmo)\n",
    "monthly_cmo['commodity'] = categorising(monthly_cmo, 'commodity')\n",
    "monthly_cmo['date'] = monthly_cmo.date.str.split('-').str.get(1)\n",
    "monthly_cmo['date'] = pd.to_numeric(monthly_cmo['date'], errors='coerce')\n",
    "monthly_cmo = monthly_cmo.drop(['Month'],axis=1)\n",
    "monthly_cmo.to_csv('../dataset/clean_monthly.csv', sep='\\t')"
   ]
  }
 ],
 "metadata": {
  "kernelspec": {
   "display_name": "Python 3",
   "language": "python",
   "name": "python3"
  },
  "language_info": {
   "codemirror_mode": {
    "name": "ipython",
    "version": 3
   },
   "file_extension": ".py",
   "mimetype": "text/x-python",
   "name": "python",
   "nbconvert_exporter": "python",
   "pygments_lexer": "ipython3",
   "version": "3.5.2"
  }
 },
 "nbformat": 4,
 "nbformat_minor": 2
}
